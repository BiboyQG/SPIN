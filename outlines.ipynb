{
 "cells": [
  {
   "cell_type": "code",
   "execution_count": null,
   "metadata": {},
   "outputs": [],
   "source": [
    "from outlines.fsm.json_schema import build_regex_from_schema\n",
    "import json\n",
    "\n",
    "from pydantic import BaseModel\n",
    "\n",
    "class User(BaseModel):\n",
    "    name: str\n",
    "    age: int\n",
    "\n",
    "schema_str = json.dumps(User.model_json_schema())\n",
    "whitespace_pattern = r\"[\\n ]?\"\n",
    "regex_string = build_regex_from_schema(schema_str, whitespace_pattern)\n",
    "print(regex_string)\n"
   ]
  }
 ],
 "metadata": {
  "language_info": {
   "name": "python"
  }
 },
 "nbformat": 4,
 "nbformat_minor": 2
}
