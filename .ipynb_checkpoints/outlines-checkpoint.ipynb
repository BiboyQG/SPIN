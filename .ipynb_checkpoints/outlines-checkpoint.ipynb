{
 "cells": [
  {
   "cell_type": "markdown",
   "metadata": {},
   "source": [
    "## regex pattern from BaseModel"
   ]
  },
  {
   "cell_type": "code",
   "execution_count": 1,
   "metadata": {},
   "outputs": [
    {
     "name": "stdout",
     "output_type": "stream",
     "text": [
      "\\{[\\n ]?\"name\"[\\n ]?:[\\n ]?\"([^\"\\\\\\x00-\\x1F\\x7F-\\x9F]|\\\\[\"\\\\])*\"[\\n ]?,[\\n ]?\"age\"[\\n ]?:[\\n ]?(-)?(0|[1-9][0-9]*)[\\n ]?\\}\n"
     ]
    }
   ],
   "source": [
    "from outlines.fsm.json_schema import build_regex_from_schema\n",
    "import json\n",
    "\n",
    "from pydantic import BaseModel\n",
    "\n",
    "class User(BaseModel):\n",
    "    name: str\n",
    "    age: int\n",
    "\n",
    "schema_str = json.dumps(User.model_json_schema())\n",
    "whitespace_pattern = r\"[\\n ]?\"\n",
    "regex_string = build_regex_from_schema(schema_str, whitespace_pattern)\n",
    "print(regex_string)\n"
   ]
  },
  {
   "cell_type": "code",
   "execution_count": null,
   "metadata": {},
   "outputs": [],
   "source": []
  }
 ],
 "metadata": {
  "kernelspec": {
   "display_name": "Python 3 (ipykernel)",
   "language": "python",
   "name": "python3"
  },
  "language_info": {
   "codemirror_mode": {
    "name": "ipython",
    "version": 3
   },
   "file_extension": ".py",
   "mimetype": "text/x-python",
   "name": "python",
   "nbconvert_exporter": "python",
   "pygments_lexer": "ipython3",
   "version": "3.10.15"
  }
 },
 "nbformat": 4,
 "nbformat_minor": 4
}
